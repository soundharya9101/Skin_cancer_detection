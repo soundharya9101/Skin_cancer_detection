{
 "cells": [
  {
   "cell_type": "markdown",
   "id": "1ee9fe94",
   "metadata": {},
   "source": [
    "## Melanoma-CNN-Prediction"
   ]
  },
  {
   "cell_type": "markdown",
   "id": "cbf13ddd",
   "metadata": {},
   "source": [
    "### Problem Statement\n",
    "<br>In this assignment, you will build a multiclass classification model using a custom convolutional neural network in tensorflow."
   ]
  },
  {
   "cell_type": "markdown",
   "id": "c8fd8b67",
   "metadata": {},
   "source": [
    "Problem statement: To build a CNN based model which can accurately detect melanoma. Melanoma is a type of cancer that can be deadly if not detected early. It accounts for 75% of skin cancer deaths. A solution which can evaluate images and alert the dermatologists about the presence of melanoma has the potential to reduce a lot of manual effort needed in diagnosis.\n",
    "The dataset consists of 2357 images of malignant and benign oncological diseases, which were formed from the International Skin Imaging Collaboration (ISIC). All images were sorted according to the classification taken with ISIC, and all subsets were divided into the same number of images, with the exception of melanomas and moles, whose images are slightly dominant. The data set contains the following diseases:"
   ]
  },
  {
   "cell_type": "markdown",
   "id": "2057bcf1",
   "metadata": {},
   "source": [
    "Actinic keratosis\n",
    "<br>Basal cell carcinoma\n",
    "<br>Dermatofibroma\n",
    "<br>Melanoma\n",
    "<br>Nevus\n",
    "<br>Pigmented benign keratosis\n",
    "<br>Seborrheic keratosis\n",
    "<br>Squamous cell carcinoma\n",
    "<br>Vascular lesion\n",
    "<br>NOTE: You don't have to use any pre-trained model using Transfer learning. All the model building process should be based on a custom model."
   ]
  },
  {
   "cell_type": "markdown",
   "id": "3cf6a99e",
   "metadata": {},
   "source": [
    "Project Pipeline\n",
    "<br>Data Reading/Data Understanding → Defining the path for train and test images\n",
    "<br>Dataset Creation→ Create train & validation dataset from the train directory with a batch size of 32. Also, make sure you resize your images to 180*180.\n",
    "<br>Dataset visualisation → Create a code to visualize one instance of all the nine classes present in the dataset\n",
    "<br>Model Building & training : Create a CNN model, which can accurately detect 9 classes present in the dataset. While building the model rescale images to normalize pixel values between (0,1).\n",
    "<br>Choose an appropriate optimiser and loss function for model training\n",
    "<br>Train the model for ~20 epochs\n",
    "<br>Write your findings after the model fit, see if there is evidence of model overfit or underfit\n",
    "<br>Choose an appropriate data augmentation strategy to resolve underfitting/overfitting Model Building & training on the augmented data :\n",
    "<br>Create a CNN model, which can accurately detect 9 classes present in the dataset. While building the model rescale images to normalize pixel values between (0,1).\n",
    "<br>Choose an appropriate optimiser and loss function for model training\n",
    "<br>Train the model for ~20 epochs\n",
    "<br>Write your findings after the model fit, see if the earlier issue is resolved or not? **Class distribution: **\n",
    "<br>Examine the current class distribution in the training dataset\n",
    "<br>Which class has the least number of samples?\n",
    "<br>Which classes dominate the data in terms of the proportionate number of samples? Handling class imbalances:\n",
    "<br>Rectify class imbalances present in the training dataset with Augmentor library. Model Building & training on the rectified class imbalance data:\n",
    "<br>Create a CNN model, which can accurately detect 9 classes present in the dataset. While building the model rescale images to normalize pixel values between (0,1).\n",
    "<br>Choose an appropriate optimiser and loss function for model training\n",
    "<br>Train the model for ~30 epochs\n",
    "<br>Write your findings after the model fit, see if the issues are resolved or not?\n",
    "<br>The model training may take time to train and hence you can use Google colab."
   ]
  }
 ],
 "metadata": {
  "kernelspec": {
   "display_name": "Python 3 (ipykernel)",
   "language": "python",
   "name": "python3"
  },
  "language_info": {
   "codemirror_mode": {
    "name": "ipython",
    "version": 3
   },
   "file_extension": ".py",
   "mimetype": "text/x-python",
   "name": "python",
   "nbconvert_exporter": "python",
   "pygments_lexer": "ipython3",
   "version": "3.9.12"
  }
 },
 "nbformat": 4,
 "nbformat_minor": 5
}
